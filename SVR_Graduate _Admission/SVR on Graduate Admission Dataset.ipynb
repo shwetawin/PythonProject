{
 "cells": [
  {
   "cell_type": "markdown",
   "id": "ae52d880",
   "metadata": {},
   "source": [
    "# Predict Graduate Admissions\n",
    "* The Dataset source  : Kaggle (https://www.kaggle.com/mohansacharya/graduate-admissions/home).\n",
    " Shweta Kanhere"
   ]
  },
  {
   "cell_type": "markdown",
   "id": "77238812",
   "metadata": {},
   "source": [
    "##  Aim : Prediction of Graduate Admissions Using SVR Model\n",
    "\n",
    "#####  About dataset : \n",
    "This dataset contains several parameters which are considered important during the application for graduate Programs. The parameters included are :\n",
    "\n",
    "* GRE Scores ( out of 340 )\n",
    "* TOEFL Scores ( out of 120 )\n",
    "* University Rating ( out of 5 )\n",
    "* Statement of Purpose and Letter of Recommendation Strength ( out of 5 )\n",
    "* Undergraduate GPA ( out of 10 )\n",
    "* Research Experience ( either 0 or 1 )\n",
    "* Chance of Admit ( ranging from 0 to 1 ) is the Target Variable"
   ]
  },
  {
   "cell_type": "code",
   "execution_count": 60,
   "id": "f878be73",
   "metadata": {},
   "outputs": [],
   "source": [
    "## Load the Libraries \n",
    "\n",
    "### Pandas and Numpy\n",
    "import pandas as pd\n",
    "import numpy as np\n",
    "### Visualisation libraries\n",
    "import seaborn as sns\n",
    "import matplotlib.pyplot as plt\n",
    "%matplotlib inline\n",
    "### For Q-Q Plot\n",
    "import scipy.stats as stats\n",
    "### To ignore warnings\n",
    "import warnings\n",
    "warnings.filterwarnings('ignore')\n",
    "### Machine Learning libraries\n",
    "import sklearn\n",
    "from sklearn.model_selection import train_test_split, GridSearchCV\n",
    "from sklearn.preprocessing import StandardScaler\n",
    "from sklearn.svm import SVC\n",
    "from sklearn.svm import SVR\n",
    "from sklearn.linear_model import LogisticRegression\n",
    "from sklearn.metrics import confusion_matrix, accuracy_score, classification_report, r2_score\n",
    "### To be able to see maximum columns on screen\n",
    "pd.set_option('display.max_columns', 500)\n",
    "### To save the model\n",
    "import pickle"
   ]
  },
  {
   "cell_type": "code",
   "execution_count": 2,
   "id": "c0156fcc",
   "metadata": {},
   "outputs": [],
   "source": [
    "# load the dataset\n",
    "df=pd.read_csv(\"https://raw.githubusercontent.com/srinivasav22/Graduate-Admission-Prediction/master/Admission_Predict_Ver1.1.csv\")"
   ]
  },
  {
   "cell_type": "code",
   "execution_count": 16,
   "id": "af7172c5",
   "metadata": {},
   "outputs": [
    {
     "data": {
      "text/html": [
       "<div>\n",
       "<style scoped>\n",
       "    .dataframe tbody tr th:only-of-type {\n",
       "        vertical-align: middle;\n",
       "    }\n",
       "\n",
       "    .dataframe tbody tr th {\n",
       "        vertical-align: top;\n",
       "    }\n",
       "\n",
       "    .dataframe thead th {\n",
       "        text-align: right;\n",
       "    }\n",
       "</style>\n",
       "<table border=\"1\" class=\"dataframe\">\n",
       "  <thead>\n",
       "    <tr style=\"text-align: right;\">\n",
       "      <th></th>\n",
       "      <th>GRE_S</th>\n",
       "      <th>TOEFL_S</th>\n",
       "      <th>rating</th>\n",
       "      <th>sop</th>\n",
       "      <th>lor</th>\n",
       "      <th>gpa</th>\n",
       "      <th>research</th>\n",
       "      <th>chance_Of_admission</th>\n",
       "    </tr>\n",
       "  </thead>\n",
       "  <tbody>\n",
       "    <tr>\n",
       "      <th>0</th>\n",
       "      <td>337</td>\n",
       "      <td>118</td>\n",
       "      <td>4</td>\n",
       "      <td>4.5</td>\n",
       "      <td>4.5</td>\n",
       "      <td>9.65</td>\n",
       "      <td>1</td>\n",
       "      <td>0.92</td>\n",
       "    </tr>\n",
       "    <tr>\n",
       "      <th>1</th>\n",
       "      <td>324</td>\n",
       "      <td>107</td>\n",
       "      <td>4</td>\n",
       "      <td>4.0</td>\n",
       "      <td>4.5</td>\n",
       "      <td>8.87</td>\n",
       "      <td>1</td>\n",
       "      <td>0.76</td>\n",
       "    </tr>\n",
       "    <tr>\n",
       "      <th>2</th>\n",
       "      <td>316</td>\n",
       "      <td>104</td>\n",
       "      <td>3</td>\n",
       "      <td>3.0</td>\n",
       "      <td>3.5</td>\n",
       "      <td>8.00</td>\n",
       "      <td>1</td>\n",
       "      <td>0.72</td>\n",
       "    </tr>\n",
       "    <tr>\n",
       "      <th>3</th>\n",
       "      <td>322</td>\n",
       "      <td>110</td>\n",
       "      <td>3</td>\n",
       "      <td>3.5</td>\n",
       "      <td>2.5</td>\n",
       "      <td>8.67</td>\n",
       "      <td>1</td>\n",
       "      <td>0.80</td>\n",
       "    </tr>\n",
       "    <tr>\n",
       "      <th>4</th>\n",
       "      <td>314</td>\n",
       "      <td>103</td>\n",
       "      <td>2</td>\n",
       "      <td>2.0</td>\n",
       "      <td>3.0</td>\n",
       "      <td>8.21</td>\n",
       "      <td>0</td>\n",
       "      <td>0.65</td>\n",
       "    </tr>\n",
       "  </tbody>\n",
       "</table>\n",
       "</div>"
      ],
      "text/plain": [
       "   GRE_S  TOEFL_S  rating  sop  lor   gpa  research  chance_Of_admission\n",
       "0    337      118       4  4.5  4.5  9.65         1                 0.92\n",
       "1    324      107       4  4.0  4.5  8.87         1                 0.76\n",
       "2    316      104       3  3.0  3.5  8.00         1                 0.72\n",
       "3    322      110       3  3.5  2.5  8.67         1                 0.80\n",
       "4    314      103       2  2.0  3.0  8.21         0                 0.65"
      ]
     },
     "execution_count": 16,
     "metadata": {},
     "output_type": "execute_result"
    }
   ],
   "source": [
    "df.head()"
   ]
  },
  {
   "cell_type": "code",
   "execution_count": 17,
   "id": "bcd8f78f",
   "metadata": {},
   "outputs": [
    {
     "name": "stdout",
     "output_type": "stream",
     "text": [
      "Shape of the data is:\n"
     ]
    },
    {
     "data": {
      "text/plain": [
       "(500, 8)"
      ]
     },
     "execution_count": 17,
     "metadata": {},
     "output_type": "execute_result"
    }
   ],
   "source": [
    "print('Shape of the data is:')\n",
    "df.shape"
   ]
  },
  {
   "cell_type": "code",
   "execution_count": 18,
   "id": "13478af8",
   "metadata": {},
   "outputs": [
    {
     "name": "stdout",
     "output_type": "stream",
     "text": [
      "Information of the data is:\n",
      "<class 'pandas.core.frame.DataFrame'>\n",
      "RangeIndex: 500 entries, 0 to 499\n",
      "Data columns (total 8 columns):\n",
      " #   Column               Non-Null Count  Dtype  \n",
      "---  ------               --------------  -----  \n",
      " 0   GRE_S                500 non-null    int64  \n",
      " 1   TOEFL_S              500 non-null    int64  \n",
      " 2   rating               500 non-null    int64  \n",
      " 3   sop                  500 non-null    float64\n",
      " 4   lor                  500 non-null    float64\n",
      " 5   gpa                  500 non-null    float64\n",
      " 6   research             500 non-null    int64  \n",
      " 7   chance_Of_admission  500 non-null    float64\n",
      "dtypes: float64(4), int64(4)\n",
      "memory usage: 31.4 KB\n"
     ]
    }
   ],
   "source": [
    "print('Information of the data is:')\n",
    "df.info()"
   ]
  },
  {
   "cell_type": "code",
   "execution_count": 19,
   "id": "38aca77f",
   "metadata": {},
   "outputs": [
    {
     "name": "stdout",
     "output_type": "stream",
     "text": [
      "Missing values in columns:\n"
     ]
    },
    {
     "data": {
      "text/plain": [
       "GRE_S                  0\n",
       "TOEFL_S                0\n",
       "rating                 0\n",
       "sop                    0\n",
       "lor                    0\n",
       "gpa                    0\n",
       "research               0\n",
       "chance_Of_admission    0\n",
       "dtype: int64"
      ]
     },
     "execution_count": 19,
     "metadata": {},
     "output_type": "execute_result"
    }
   ],
   "source": [
    "print('Missing values in columns:')\n",
    "df.isnull().sum()"
   ]
  },
  {
   "cell_type": "markdown",
   "id": "b981ee60",
   "metadata": {},
   "source": [
    "#### Column names are not proper like :\n",
    "*Serial No. ,Chance of Admit etc. We need to remove the spaces\n",
    "*Serial No has Full stop so we need to remove this and chance as no (Serial No.=no)\n",
    "*Need to change the other variable into lowercase for easy to use"
   ]
  },
  {
   "cell_type": "code",
   "execution_count": 20,
   "id": "08bc0587",
   "metadata": {},
   "outputs": [],
   "source": [
    "df=df.rename(columns={'Serial No.':'no','GRE Score':'GRE_S','TOEFL Score':'TOEFL_S','University Rating':'rating','SOP':'sop','LOR ':'lor',\n",
    "                           'CGPA':'gpa',\n",
    "                           'Research':'research','Chance of Admit ':'chance_Of_admission'})"
   ]
  },
  {
   "cell_type": "code",
   "execution_count": 21,
   "id": "f3da2f0e",
   "metadata": {},
   "outputs": [
    {
     "data": {
      "text/html": [
       "<div>\n",
       "<style scoped>\n",
       "    .dataframe tbody tr th:only-of-type {\n",
       "        vertical-align: middle;\n",
       "    }\n",
       "\n",
       "    .dataframe tbody tr th {\n",
       "        vertical-align: top;\n",
       "    }\n",
       "\n",
       "    .dataframe thead th {\n",
       "        text-align: right;\n",
       "    }\n",
       "</style>\n",
       "<table border=\"1\" class=\"dataframe\">\n",
       "  <thead>\n",
       "    <tr style=\"text-align: right;\">\n",
       "      <th></th>\n",
       "      <th>GRE_S</th>\n",
       "      <th>TOEFL_S</th>\n",
       "      <th>rating</th>\n",
       "      <th>sop</th>\n",
       "      <th>lor</th>\n",
       "      <th>gpa</th>\n",
       "      <th>research</th>\n",
       "      <th>chance_Of_admission</th>\n",
       "    </tr>\n",
       "  </thead>\n",
       "  <tbody>\n",
       "    <tr>\n",
       "      <th>0</th>\n",
       "      <td>337</td>\n",
       "      <td>118</td>\n",
       "      <td>4</td>\n",
       "      <td>4.5</td>\n",
       "      <td>4.5</td>\n",
       "      <td>9.65</td>\n",
       "      <td>1</td>\n",
       "      <td>0.92</td>\n",
       "    </tr>\n",
       "    <tr>\n",
       "      <th>1</th>\n",
       "      <td>324</td>\n",
       "      <td>107</td>\n",
       "      <td>4</td>\n",
       "      <td>4.0</td>\n",
       "      <td>4.5</td>\n",
       "      <td>8.87</td>\n",
       "      <td>1</td>\n",
       "      <td>0.76</td>\n",
       "    </tr>\n",
       "    <tr>\n",
       "      <th>2</th>\n",
       "      <td>316</td>\n",
       "      <td>104</td>\n",
       "      <td>3</td>\n",
       "      <td>3.0</td>\n",
       "      <td>3.5</td>\n",
       "      <td>8.00</td>\n",
       "      <td>1</td>\n",
       "      <td>0.72</td>\n",
       "    </tr>\n",
       "    <tr>\n",
       "      <th>3</th>\n",
       "      <td>322</td>\n",
       "      <td>110</td>\n",
       "      <td>3</td>\n",
       "      <td>3.5</td>\n",
       "      <td>2.5</td>\n",
       "      <td>8.67</td>\n",
       "      <td>1</td>\n",
       "      <td>0.80</td>\n",
       "    </tr>\n",
       "    <tr>\n",
       "      <th>4</th>\n",
       "      <td>314</td>\n",
       "      <td>103</td>\n",
       "      <td>2</td>\n",
       "      <td>2.0</td>\n",
       "      <td>3.0</td>\n",
       "      <td>8.21</td>\n",
       "      <td>0</td>\n",
       "      <td>0.65</td>\n",
       "    </tr>\n",
       "    <tr>\n",
       "      <th>...</th>\n",
       "      <td>...</td>\n",
       "      <td>...</td>\n",
       "      <td>...</td>\n",
       "      <td>...</td>\n",
       "      <td>...</td>\n",
       "      <td>...</td>\n",
       "      <td>...</td>\n",
       "      <td>...</td>\n",
       "    </tr>\n",
       "    <tr>\n",
       "      <th>495</th>\n",
       "      <td>332</td>\n",
       "      <td>108</td>\n",
       "      <td>5</td>\n",
       "      <td>4.5</td>\n",
       "      <td>4.0</td>\n",
       "      <td>9.02</td>\n",
       "      <td>1</td>\n",
       "      <td>0.87</td>\n",
       "    </tr>\n",
       "    <tr>\n",
       "      <th>496</th>\n",
       "      <td>337</td>\n",
       "      <td>117</td>\n",
       "      <td>5</td>\n",
       "      <td>5.0</td>\n",
       "      <td>5.0</td>\n",
       "      <td>9.87</td>\n",
       "      <td>1</td>\n",
       "      <td>0.96</td>\n",
       "    </tr>\n",
       "    <tr>\n",
       "      <th>497</th>\n",
       "      <td>330</td>\n",
       "      <td>120</td>\n",
       "      <td>5</td>\n",
       "      <td>4.5</td>\n",
       "      <td>5.0</td>\n",
       "      <td>9.56</td>\n",
       "      <td>1</td>\n",
       "      <td>0.93</td>\n",
       "    </tr>\n",
       "    <tr>\n",
       "      <th>498</th>\n",
       "      <td>312</td>\n",
       "      <td>103</td>\n",
       "      <td>4</td>\n",
       "      <td>4.0</td>\n",
       "      <td>5.0</td>\n",
       "      <td>8.43</td>\n",
       "      <td>0</td>\n",
       "      <td>0.73</td>\n",
       "    </tr>\n",
       "    <tr>\n",
       "      <th>499</th>\n",
       "      <td>327</td>\n",
       "      <td>113</td>\n",
       "      <td>4</td>\n",
       "      <td>4.5</td>\n",
       "      <td>4.5</td>\n",
       "      <td>9.04</td>\n",
       "      <td>0</td>\n",
       "      <td>0.84</td>\n",
       "    </tr>\n",
       "  </tbody>\n",
       "</table>\n",
       "<p>500 rows × 8 columns</p>\n",
       "</div>"
      ],
      "text/plain": [
       "     GRE_S  TOEFL_S  rating  sop  lor   gpa  research  chance_Of_admission\n",
       "0      337      118       4  4.5  4.5  9.65         1                 0.92\n",
       "1      324      107       4  4.0  4.5  8.87         1                 0.76\n",
       "2      316      104       3  3.0  3.5  8.00         1                 0.72\n",
       "3      322      110       3  3.5  2.5  8.67         1                 0.80\n",
       "4      314      103       2  2.0  3.0  8.21         0                 0.65\n",
       "..     ...      ...     ...  ...  ...   ...       ...                  ...\n",
       "495    332      108       5  4.5  4.0  9.02         1                 0.87\n",
       "496    337      117       5  5.0  5.0  9.87         1                 0.96\n",
       "497    330      120       5  4.5  5.0  9.56         1                 0.93\n",
       "498    312      103       4  4.0  5.0  8.43         0                 0.73\n",
       "499    327      113       4  4.5  4.5  9.04         0                 0.84\n",
       "\n",
       "[500 rows x 8 columns]"
      ]
     },
     "execution_count": 21,
     "metadata": {},
     "output_type": "execute_result"
    }
   ],
   "source": [
    "df"
   ]
  },
  {
   "cell_type": "markdown",
   "id": "f8b1755f",
   "metadata": {},
   "source": [
    "### Check the data type of the columns"
   ]
  },
  {
   "cell_type": "code",
   "execution_count": 22,
   "id": "b32d2dfc",
   "metadata": {},
   "outputs": [
    {
     "data": {
      "text/plain": [
       "GRE_S                    int64\n",
       "TOEFL_S                  int64\n",
       "rating                   int64\n",
       "sop                    float64\n",
       "lor                    float64\n",
       "gpa                    float64\n",
       "research                 int64\n",
       "chance_Of_admission    float64\n",
       "dtype: object"
      ]
     },
     "execution_count": 22,
     "metadata": {},
     "output_type": "execute_result"
    }
   ],
   "source": [
    "df.dtypes"
   ]
  },
  {
   "cell_type": "markdown",
   "id": "2c99bfa0",
   "metadata": {},
   "source": [
    "#  Data Exploration"
   ]
  },
  {
   "cell_type": "code",
   "execution_count": 23,
   "id": "28a4641e",
   "metadata": {},
   "outputs": [
    {
     "name": "stdout",
     "output_type": "stream",
     "text": [
      "The basic statistics of the data\n"
     ]
    },
    {
     "data": {
      "text/html": [
       "<div>\n",
       "<style scoped>\n",
       "    .dataframe tbody tr th:only-of-type {\n",
       "        vertical-align: middle;\n",
       "    }\n",
       "\n",
       "    .dataframe tbody tr th {\n",
       "        vertical-align: top;\n",
       "    }\n",
       "\n",
       "    .dataframe thead th {\n",
       "        text-align: right;\n",
       "    }\n",
       "</style>\n",
       "<table border=\"1\" class=\"dataframe\">\n",
       "  <thead>\n",
       "    <tr style=\"text-align: right;\">\n",
       "      <th></th>\n",
       "      <th>count</th>\n",
       "      <th>mean</th>\n",
       "      <th>std</th>\n",
       "      <th>min</th>\n",
       "      <th>25%</th>\n",
       "      <th>50%</th>\n",
       "      <th>75%</th>\n",
       "      <th>max</th>\n",
       "    </tr>\n",
       "  </thead>\n",
       "  <tbody>\n",
       "    <tr>\n",
       "      <th>GRE_S</th>\n",
       "      <td>500.0</td>\n",
       "      <td>316.47200</td>\n",
       "      <td>11.295148</td>\n",
       "      <td>290.00</td>\n",
       "      <td>308.0000</td>\n",
       "      <td>317.00</td>\n",
       "      <td>325.00</td>\n",
       "      <td>340.00</td>\n",
       "    </tr>\n",
       "    <tr>\n",
       "      <th>TOEFL_S</th>\n",
       "      <td>500.0</td>\n",
       "      <td>107.19200</td>\n",
       "      <td>6.081868</td>\n",
       "      <td>92.00</td>\n",
       "      <td>103.0000</td>\n",
       "      <td>107.00</td>\n",
       "      <td>112.00</td>\n",
       "      <td>120.00</td>\n",
       "    </tr>\n",
       "    <tr>\n",
       "      <th>rating</th>\n",
       "      <td>500.0</td>\n",
       "      <td>3.11400</td>\n",
       "      <td>1.143512</td>\n",
       "      <td>1.00</td>\n",
       "      <td>2.0000</td>\n",
       "      <td>3.00</td>\n",
       "      <td>4.00</td>\n",
       "      <td>5.00</td>\n",
       "    </tr>\n",
       "    <tr>\n",
       "      <th>sop</th>\n",
       "      <td>500.0</td>\n",
       "      <td>3.37400</td>\n",
       "      <td>0.991004</td>\n",
       "      <td>1.00</td>\n",
       "      <td>2.5000</td>\n",
       "      <td>3.50</td>\n",
       "      <td>4.00</td>\n",
       "      <td>5.00</td>\n",
       "    </tr>\n",
       "    <tr>\n",
       "      <th>lor</th>\n",
       "      <td>500.0</td>\n",
       "      <td>3.48400</td>\n",
       "      <td>0.925450</td>\n",
       "      <td>1.00</td>\n",
       "      <td>3.0000</td>\n",
       "      <td>3.50</td>\n",
       "      <td>4.00</td>\n",
       "      <td>5.00</td>\n",
       "    </tr>\n",
       "    <tr>\n",
       "      <th>gpa</th>\n",
       "      <td>500.0</td>\n",
       "      <td>8.57644</td>\n",
       "      <td>0.604813</td>\n",
       "      <td>6.80</td>\n",
       "      <td>8.1275</td>\n",
       "      <td>8.56</td>\n",
       "      <td>9.04</td>\n",
       "      <td>9.92</td>\n",
       "    </tr>\n",
       "    <tr>\n",
       "      <th>research</th>\n",
       "      <td>500.0</td>\n",
       "      <td>0.56000</td>\n",
       "      <td>0.496884</td>\n",
       "      <td>0.00</td>\n",
       "      <td>0.0000</td>\n",
       "      <td>1.00</td>\n",
       "      <td>1.00</td>\n",
       "      <td>1.00</td>\n",
       "    </tr>\n",
       "    <tr>\n",
       "      <th>chance_Of_admission</th>\n",
       "      <td>500.0</td>\n",
       "      <td>0.72174</td>\n",
       "      <td>0.141140</td>\n",
       "      <td>0.34</td>\n",
       "      <td>0.6300</td>\n",
       "      <td>0.72</td>\n",
       "      <td>0.82</td>\n",
       "      <td>0.97</td>\n",
       "    </tr>\n",
       "  </tbody>\n",
       "</table>\n",
       "</div>"
      ],
      "text/plain": [
       "                     count       mean        std     min       25%     50%  \\\n",
       "GRE_S                500.0  316.47200  11.295148  290.00  308.0000  317.00   \n",
       "TOEFL_S              500.0  107.19200   6.081868   92.00  103.0000  107.00   \n",
       "rating               500.0    3.11400   1.143512    1.00    2.0000    3.00   \n",
       "sop                  500.0    3.37400   0.991004    1.00    2.5000    3.50   \n",
       "lor                  500.0    3.48400   0.925450    1.00    3.0000    3.50   \n",
       "gpa                  500.0    8.57644   0.604813    6.80    8.1275    8.56   \n",
       "research             500.0    0.56000   0.496884    0.00    0.0000    1.00   \n",
       "chance_Of_admission  500.0    0.72174   0.141140    0.34    0.6300    0.72   \n",
       "\n",
       "                        75%     max  \n",
       "GRE_S                325.00  340.00  \n",
       "TOEFL_S              112.00  120.00  \n",
       "rating                 4.00    5.00  \n",
       "sop                    4.00    5.00  \n",
       "lor                    4.00    5.00  \n",
       "gpa                    9.04    9.92  \n",
       "research               1.00    1.00  \n",
       "chance_Of_admission    0.82    0.97  "
      ]
     },
     "execution_count": 23,
     "metadata": {},
     "output_type": "execute_result"
    }
   ],
   "source": [
    "print(\"The basic statistics of the data\")\n",
    "df.describe().T"
   ]
  },
  {
   "cell_type": "markdown",
   "id": "aad17dae",
   "metadata": {},
   "source": [
    "# Data Visualization\n",
    "\n",
    "* This gives clearity about data"
   ]
  },
  {
   "cell_type": "code",
   "execution_count": 24,
   "id": "24771a9f",
   "metadata": {},
   "outputs": [
    {
     "data": {
      "image/png": "[encoded data removed]",
      "text/plain": [
       "<Figure size 720x432 with 1 Axes>"
      ]
     },
     "metadata": {
      "needs_background": "light"
     },
     "output_type": "display_data"
    }
   ],
   "source": [
    "import seaborn as sns\n",
    "plt.figure(figsize=(10,6))\n",
    "sns.kdeplot(df['chance_Of_admission'],color=\"red\")\n",
    "plt.title('Distribution plot of Admission Chance',fontsize=20,fontweight=\"bold\")\n",
    "plt.xlabel('Admission Chance')\n",
    "plt.ylabel('Frequency ')\n",
    "plt.show()"
   ]
  },
  {
   "cell_type": "code",
   "execution_count": 52,
   "id": "1682c1f6",
   "metadata": {},
   "outputs": [
    {
     "name": "stdout",
     "output_type": "stream",
     "text": [
      "Index(['GRE_S', 'TOEFL_S', 'rating', 'sop', 'lor', 'gpa', 'research',\n",
      "       'chance_Of_admission'],\n",
      "      dtype='object')\n"
     ]
    }
   ],
   "source": [
    "numerical_features=df.columns\n",
    "print(numerical_features)\n"
   ]
  },
  {
   "cell_type": "code",
   "execution_count": 55,
   "id": "84054190",
   "metadata": {},
   "outputs": [
    {
     "data": {
      "image/png": "[encoded data removed]",
      "text/plain": [
       "<Figure size 1080x2160 with 8 Axes>"
      ]
     },
     "metadata": {},
     "output_type": "display_data"
    }
   ],
   "source": [
    "plt.figure(figsize=(15,30))\n",
    "for i in enumerate(numerical_features):\n",
    "    plt.subplot(4, 2, i[0]+1)\n",
    "    sns.set(rc={'figure.figsize':(7,5)})\n",
    "    sns.kdeplot(data=df, x=i[1], fill=True)\n",
    "    plt.title(\"{}'s distribution\".format(i[1]),fontweight=\"bold\")\n"
   ]
  },
  {
   "cell_type": "markdown",
   "id": "a9b2ee66",
   "metadata": {},
   "source": [
    "# Data Preperation"
   ]
  },
  {
   "cell_type": "markdown",
   "id": "2cb50e23",
   "metadata": {},
   "source": [
    "* here in data set all variables are numerical \n",
    "* consider chance_Of_admission dependent variable and others are independent variables\n",
    "* The model will predict chance_Of_admission with the help of other variables (ie. predictors)\n",
    "* drop the no column as it has no impact on dataset\n"
   ]
  },
  {
   "cell_type": "code",
   "execution_count": 26,
   "id": "e40647b8",
   "metadata": {},
   "outputs": [
    {
     "ename": "KeyError",
     "evalue": "\"['no'] not found in axis\"",
     "output_type": "error",
     "traceback": [
      "\u001b[1;31m---------------------------------------------------------------------------\u001b[0m",
      "\u001b[1;31mKeyError\u001b[0m                                  Traceback (most recent call last)",
      "Input \u001b[1;32mIn [26]\u001b[0m, in \u001b[0;36m<cell line: 1>\u001b[1;34m()\u001b[0m\n\u001b[1;32m----> 1\u001b[0m X\u001b[38;5;241m=\u001b[39m\u001b[43mdf\u001b[49m\u001b[38;5;241;43m.\u001b[39;49m\u001b[43mdrop\u001b[49m\u001b[43m(\u001b[49m\u001b[43m[\u001b[49m\u001b[38;5;124;43m'\u001b[39;49m\u001b[38;5;124;43mno\u001b[39;49m\u001b[38;5;124;43m'\u001b[39;49m\u001b[43m]\u001b[49m\u001b[43m,\u001b[49m\u001b[43maxis\u001b[49m\u001b[38;5;241;43m=\u001b[39;49m\u001b[38;5;241;43m1\u001b[39;49m\u001b[43m,\u001b[49m\u001b[43minplace\u001b[49m\u001b[38;5;241;43m=\u001b[39;49m\u001b[38;5;28;43;01mTrue\u001b[39;49;00m\u001b[43m)\u001b[49m\n",
      "File \u001b[1;32m~\\anaconda3\\lib\\site-packages\\pandas\\util\\_decorators.py:311\u001b[0m, in \u001b[0;36mdeprecate_nonkeyword_arguments.<locals>.decorate.<locals>.wrapper\u001b[1;34m(*args, **kwargs)\u001b[0m\n\u001b[0;32m    305\u001b[0m \u001b[38;5;28;01mif\u001b[39;00m \u001b[38;5;28mlen\u001b[39m(args) \u001b[38;5;241m>\u001b[39m num_allow_args:\n\u001b[0;32m    306\u001b[0m     warnings\u001b[38;5;241m.\u001b[39mwarn(\n\u001b[0;32m    307\u001b[0m         msg\u001b[38;5;241m.\u001b[39mformat(arguments\u001b[38;5;241m=\u001b[39marguments),\n\u001b[0;32m    308\u001b[0m         \u001b[38;5;167;01mFutureWarning\u001b[39;00m,\n\u001b[0;32m    309\u001b[0m         stacklevel\u001b[38;5;241m=\u001b[39mstacklevel,\n\u001b[0;32m    310\u001b[0m     )\n\u001b[1;32m--> 311\u001b[0m \u001b[38;5;28;01mreturn\u001b[39;00m func(\u001b[38;5;241m*\u001b[39margs, \u001b[38;5;241m*\u001b[39m\u001b[38;5;241m*\u001b[39mkwargs)\n",
      "File \u001b[1;32m~\\anaconda3\\lib\\site-packages\\pandas\\core\\frame.py:4954\u001b[0m, in \u001b[0;36mDataFrame.drop\u001b[1;34m(self, labels, axis, index, columns, level, inplace, errors)\u001b[0m\n\u001b[0;32m   4806\u001b[0m \u001b[38;5;129m@deprecate_nonkeyword_arguments\u001b[39m(version\u001b[38;5;241m=\u001b[39m\u001b[38;5;28;01mNone\u001b[39;00m, allowed_args\u001b[38;5;241m=\u001b[39m[\u001b[38;5;124m\"\u001b[39m\u001b[38;5;124mself\u001b[39m\u001b[38;5;124m\"\u001b[39m, \u001b[38;5;124m\"\u001b[39m\u001b[38;5;124mlabels\u001b[39m\u001b[38;5;124m\"\u001b[39m])\n\u001b[0;32m   4807\u001b[0m \u001b[38;5;28;01mdef\u001b[39;00m \u001b[38;5;21mdrop\u001b[39m(\n\u001b[0;32m   4808\u001b[0m     \u001b[38;5;28mself\u001b[39m,\n\u001b[1;32m   (...)\u001b[0m\n\u001b[0;32m   4815\u001b[0m     errors: \u001b[38;5;28mstr\u001b[39m \u001b[38;5;241m=\u001b[39m \u001b[38;5;124m\"\u001b[39m\u001b[38;5;124mraise\u001b[39m\u001b[38;5;124m\"\u001b[39m,\n\u001b[0;32m   4816\u001b[0m ):\n\u001b[0;32m   4817\u001b[0m     \u001b[38;5;124;03m\"\"\"\u001b[39;00m\n\u001b[0;32m   4818\u001b[0m \u001b[38;5;124;03m    Drop specified labels from rows or columns.\u001b[39;00m\n\u001b[0;32m   4819\u001b[0m \n\u001b[1;32m   (...)\u001b[0m\n\u001b[0;32m   4952\u001b[0m \u001b[38;5;124;03m            weight  1.0     0.8\u001b[39;00m\n\u001b[0;32m   4953\u001b[0m \u001b[38;5;124;03m    \"\"\"\u001b[39;00m\n\u001b[1;32m-> 4954\u001b[0m     \u001b[38;5;28;01mreturn\u001b[39;00m \u001b[38;5;28;43msuper\u001b[39;49m\u001b[43m(\u001b[49m\u001b[43m)\u001b[49m\u001b[38;5;241;43m.\u001b[39;49m\u001b[43mdrop\u001b[49m\u001b[43m(\u001b[49m\n\u001b[0;32m   4955\u001b[0m \u001b[43m        \u001b[49m\u001b[43mlabels\u001b[49m\u001b[38;5;241;43m=\u001b[39;49m\u001b[43mlabels\u001b[49m\u001b[43m,\u001b[49m\n\u001b[0;32m   4956\u001b[0m \u001b[43m        \u001b[49m\u001b[43maxis\u001b[49m\u001b[38;5;241;43m=\u001b[39;49m\u001b[43maxis\u001b[49m\u001b[43m,\u001b[49m\n\u001b[0;32m   4957\u001b[0m \u001b[43m        \u001b[49m\u001b[43mindex\u001b[49m\u001b[38;5;241;43m=\u001b[39;49m\u001b[43mindex\u001b[49m\u001b[43m,\u001b[49m\n\u001b[0;32m   4958\u001b[0m \u001b[43m        \u001b[49m\u001b[43mcolumns\u001b[49m\u001b[38;5;241;43m=\u001b[39;49m\u001b[43mcolumns\u001b[49m\u001b[43m,\u001b[49m\n\u001b[0;32m   4959\u001b[0m \u001b[43m        \u001b[49m\u001b[43mlevel\u001b[49m\u001b[38;5;241;43m=\u001b[39;49m\u001b[43mlevel\u001b[49m\u001b[43m,\u001b[49m\n\u001b[0;32m   4960\u001b[0m \u001b[43m        \u001b[49m\u001b[43minplace\u001b[49m\u001b[38;5;241;43m=\u001b[39;49m\u001b[43minplace\u001b[49m\u001b[43m,\u001b[49m\n\u001b[0;32m   4961\u001b[0m \u001b[43m        \u001b[49m\u001b[43merrors\u001b[49m\u001b[38;5;241;43m=\u001b[39;49m\u001b[43merrors\u001b[49m\u001b[43m,\u001b[49m\n\u001b[0;32m   4962\u001b[0m \u001b[43m    \u001b[49m\u001b[43m)\u001b[49m\n",
      "File \u001b[1;32m~\\anaconda3\\lib\\site-packages\\pandas\\core\\generic.py:4267\u001b[0m, in \u001b[0;36mNDFrame.drop\u001b[1;34m(self, labels, axis, index, columns, level, inplace, errors)\u001b[0m\n\u001b[0;32m   4265\u001b[0m \u001b[38;5;28;01mfor\u001b[39;00m axis, labels \u001b[38;5;129;01min\u001b[39;00m axes\u001b[38;5;241m.\u001b[39mitems():\n\u001b[0;32m   4266\u001b[0m     \u001b[38;5;28;01mif\u001b[39;00m labels \u001b[38;5;129;01mis\u001b[39;00m \u001b[38;5;129;01mnot\u001b[39;00m \u001b[38;5;28;01mNone\u001b[39;00m:\n\u001b[1;32m-> 4267\u001b[0m         obj \u001b[38;5;241m=\u001b[39m \u001b[43mobj\u001b[49m\u001b[38;5;241;43m.\u001b[39;49m\u001b[43m_drop_axis\u001b[49m\u001b[43m(\u001b[49m\u001b[43mlabels\u001b[49m\u001b[43m,\u001b[49m\u001b[43m \u001b[49m\u001b[43maxis\u001b[49m\u001b[43m,\u001b[49m\u001b[43m \u001b[49m\u001b[43mlevel\u001b[49m\u001b[38;5;241;43m=\u001b[39;49m\u001b[43mlevel\u001b[49m\u001b[43m,\u001b[49m\u001b[43m \u001b[49m\u001b[43merrors\u001b[49m\u001b[38;5;241;43m=\u001b[39;49m\u001b[43merrors\u001b[49m\u001b[43m)\u001b[49m\n\u001b[0;32m   4269\u001b[0m \u001b[38;5;28;01mif\u001b[39;00m inplace:\n\u001b[0;32m   4270\u001b[0m     \u001b[38;5;28mself\u001b[39m\u001b[38;5;241m.\u001b[39m_update_inplace(obj)\n",
      "File \u001b[1;32m~\\anaconda3\\lib\\site-packages\\pandas\\core\\generic.py:4311\u001b[0m, in \u001b[0;36mNDFrame._drop_axis\u001b[1;34m(self, labels, axis, level, errors, consolidate, only_slice)\u001b[0m\n\u001b[0;32m   4309\u001b[0m         new_axis \u001b[38;5;241m=\u001b[39m axis\u001b[38;5;241m.\u001b[39mdrop(labels, level\u001b[38;5;241m=\u001b[39mlevel, errors\u001b[38;5;241m=\u001b[39merrors)\n\u001b[0;32m   4310\u001b[0m     \u001b[38;5;28;01melse\u001b[39;00m:\n\u001b[1;32m-> 4311\u001b[0m         new_axis \u001b[38;5;241m=\u001b[39m \u001b[43maxis\u001b[49m\u001b[38;5;241;43m.\u001b[39;49m\u001b[43mdrop\u001b[49m\u001b[43m(\u001b[49m\u001b[43mlabels\u001b[49m\u001b[43m,\u001b[49m\u001b[43m \u001b[49m\u001b[43merrors\u001b[49m\u001b[38;5;241;43m=\u001b[39;49m\u001b[43merrors\u001b[49m\u001b[43m)\u001b[49m\n\u001b[0;32m   4312\u001b[0m     indexer \u001b[38;5;241m=\u001b[39m axis\u001b[38;5;241m.\u001b[39mget_indexer(new_axis)\n\u001b[0;32m   4314\u001b[0m \u001b[38;5;66;03m# Case for non-unique axis\u001b[39;00m\n\u001b[0;32m   4315\u001b[0m \u001b[38;5;28;01melse\u001b[39;00m:\n",
      "File \u001b[1;32m~\\anaconda3\\lib\\site-packages\\pandas\\core\\indexes\\base.py:6644\u001b[0m, in \u001b[0;36mIndex.drop\u001b[1;34m(self, labels, errors)\u001b[0m\n\u001b[0;32m   6642\u001b[0m \u001b[38;5;28;01mif\u001b[39;00m mask\u001b[38;5;241m.\u001b[39many():\n\u001b[0;32m   6643\u001b[0m     \u001b[38;5;28;01mif\u001b[39;00m errors \u001b[38;5;241m!=\u001b[39m \u001b[38;5;124m\"\u001b[39m\u001b[38;5;124mignore\u001b[39m\u001b[38;5;124m\"\u001b[39m:\n\u001b[1;32m-> 6644\u001b[0m         \u001b[38;5;28;01mraise\u001b[39;00m \u001b[38;5;167;01mKeyError\u001b[39;00m(\u001b[38;5;124mf\u001b[39m\u001b[38;5;124m\"\u001b[39m\u001b[38;5;132;01m{\u001b[39;00m\u001b[38;5;28mlist\u001b[39m(labels[mask])\u001b[38;5;132;01m}\u001b[39;00m\u001b[38;5;124m not found in axis\u001b[39m\u001b[38;5;124m\"\u001b[39m)\n\u001b[0;32m   6645\u001b[0m     indexer \u001b[38;5;241m=\u001b[39m indexer[\u001b[38;5;241m~\u001b[39mmask]\n\u001b[0;32m   6646\u001b[0m \u001b[38;5;28;01mreturn\u001b[39;00m \u001b[38;5;28mself\u001b[39m\u001b[38;5;241m.\u001b[39mdelete(indexer)\n",
      "\u001b[1;31mKeyError\u001b[0m: \"['no'] not found in axis\""
     ]
    }
   ],
   "source": [
    "X=df.drop(['no'],axis=1,inplace=True)"
   ]
  },
  {
   "cell_type": "code",
   "execution_count": 13,
   "id": "a90b8070",
   "metadata": {},
   "outputs": [
    {
     "data": {
      "text/plain": [
       "Index(['GRE_S', 'TOEFL_S', 'rating', 'sop', 'lor', 'gpa', 'research',\n",
       "       'chance_Of_admission'],\n",
       "      dtype='object')"
      ]
     },
     "execution_count": 13,
     "metadata": {},
     "output_type": "execute_result"
    }
   ],
   "source": [
    "df.columns"
   ]
  },
  {
   "cell_type": "code",
   "execution_count": 27,
   "id": "7e7a687f",
   "metadata": {},
   "outputs": [],
   "source": [
    "X=df.drop(\"chance_Of_admission\",axis=1)\n",
    "y=df['chance_Of_admission']\n"
   ]
  },
  {
   "cell_type": "code",
   "execution_count": 28,
   "id": "d2bc3c90",
   "metadata": {},
   "outputs": [
    {
     "data": {
      "text/html": [
       "<div>\n",
       "<style scoped>\n",
       "    .dataframe tbody tr th:only-of-type {\n",
       "        vertical-align: middle;\n",
       "    }\n",
       "\n",
       "    .dataframe tbody tr th {\n",
       "        vertical-align: top;\n",
       "    }\n",
       "\n",
       "    .dataframe thead th {\n",
       "        text-align: right;\n",
       "    }\n",
       "</style>\n",
       "<table border=\"1\" class=\"dataframe\">\n",
       "  <thead>\n",
       "    <tr style=\"text-align: right;\">\n",
       "      <th></th>\n",
       "      <th>GRE_S</th>\n",
       "      <th>TOEFL_S</th>\n",
       "      <th>rating</th>\n",
       "      <th>sop</th>\n",
       "      <th>lor</th>\n",
       "      <th>gpa</th>\n",
       "      <th>research</th>\n",
       "    </tr>\n",
       "  </thead>\n",
       "  <tbody>\n",
       "    <tr>\n",
       "      <th>0</th>\n",
       "      <td>337</td>\n",
       "      <td>118</td>\n",
       "      <td>4</td>\n",
       "      <td>4.5</td>\n",
       "      <td>4.5</td>\n",
       "      <td>9.65</td>\n",
       "      <td>1</td>\n",
       "    </tr>\n",
       "    <tr>\n",
       "      <th>1</th>\n",
       "      <td>324</td>\n",
       "      <td>107</td>\n",
       "      <td>4</td>\n",
       "      <td>4.0</td>\n",
       "      <td>4.5</td>\n",
       "      <td>8.87</td>\n",
       "      <td>1</td>\n",
       "    </tr>\n",
       "    <tr>\n",
       "      <th>2</th>\n",
       "      <td>316</td>\n",
       "      <td>104</td>\n",
       "      <td>3</td>\n",
       "      <td>3.0</td>\n",
       "      <td>3.5</td>\n",
       "      <td>8.00</td>\n",
       "      <td>1</td>\n",
       "    </tr>\n",
       "    <tr>\n",
       "      <th>3</th>\n",
       "      <td>322</td>\n",
       "      <td>110</td>\n",
       "      <td>3</td>\n",
       "      <td>3.5</td>\n",
       "      <td>2.5</td>\n",
       "      <td>8.67</td>\n",
       "      <td>1</td>\n",
       "    </tr>\n",
       "    <tr>\n",
       "      <th>4</th>\n",
       "      <td>314</td>\n",
       "      <td>103</td>\n",
       "      <td>2</td>\n",
       "      <td>2.0</td>\n",
       "      <td>3.0</td>\n",
       "      <td>8.21</td>\n",
       "      <td>0</td>\n",
       "    </tr>\n",
       "    <tr>\n",
       "      <th>...</th>\n",
       "      <td>...</td>\n",
       "      <td>...</td>\n",
       "      <td>...</td>\n",
       "      <td>...</td>\n",
       "      <td>...</td>\n",
       "      <td>...</td>\n",
       "      <td>...</td>\n",
       "    </tr>\n",
       "    <tr>\n",
       "      <th>495</th>\n",
       "      <td>332</td>\n",
       "      <td>108</td>\n",
       "      <td>5</td>\n",
       "      <td>4.5</td>\n",
       "      <td>4.0</td>\n",
       "      <td>9.02</td>\n",
       "      <td>1</td>\n",
       "    </tr>\n",
       "    <tr>\n",
       "      <th>496</th>\n",
       "      <td>337</td>\n",
       "      <td>117</td>\n",
       "      <td>5</td>\n",
       "      <td>5.0</td>\n",
       "      <td>5.0</td>\n",
       "      <td>9.87</td>\n",
       "      <td>1</td>\n",
       "    </tr>\n",
       "    <tr>\n",
       "      <th>497</th>\n",
       "      <td>330</td>\n",
       "      <td>120</td>\n",
       "      <td>5</td>\n",
       "      <td>4.5</td>\n",
       "      <td>5.0</td>\n",
       "      <td>9.56</td>\n",
       "      <td>1</td>\n",
       "    </tr>\n",
       "    <tr>\n",
       "      <th>498</th>\n",
       "      <td>312</td>\n",
       "      <td>103</td>\n",
       "      <td>4</td>\n",
       "      <td>4.0</td>\n",
       "      <td>5.0</td>\n",
       "      <td>8.43</td>\n",
       "      <td>0</td>\n",
       "    </tr>\n",
       "    <tr>\n",
       "      <th>499</th>\n",
       "      <td>327</td>\n",
       "      <td>113</td>\n",
       "      <td>4</td>\n",
       "      <td>4.5</td>\n",
       "      <td>4.5</td>\n",
       "      <td>9.04</td>\n",
       "      <td>0</td>\n",
       "    </tr>\n",
       "  </tbody>\n",
       "</table>\n",
       "<p>500 rows × 7 columns</p>\n",
       "</div>"
      ],
      "text/plain": [
       "     GRE_S  TOEFL_S  rating  sop  lor   gpa  research\n",
       "0      337      118       4  4.5  4.5  9.65         1\n",
       "1      324      107       4  4.0  4.5  8.87         1\n",
       "2      316      104       3  3.0  3.5  8.00         1\n",
       "3      322      110       3  3.5  2.5  8.67         1\n",
       "4      314      103       2  2.0  3.0  8.21         0\n",
       "..     ...      ...     ...  ...  ...   ...       ...\n",
       "495    332      108       5  4.5  4.0  9.02         1\n",
       "496    337      117       5  5.0  5.0  9.87         1\n",
       "497    330      120       5  4.5  5.0  9.56         1\n",
       "498    312      103       4  4.0  5.0  8.43         0\n",
       "499    327      113       4  4.5  4.5  9.04         0\n",
       "\n",
       "[500 rows x 7 columns]"
      ]
     },
     "execution_count": 28,
     "metadata": {},
     "output_type": "execute_result"
    }
   ],
   "source": [
    "X"
   ]
  },
  {
   "cell_type": "code",
   "execution_count": 30,
   "id": "eb966ccc",
   "metadata": {},
   "outputs": [
    {
     "data": {
      "text/plain": [
       "0    0.92\n",
       "1    0.76\n",
       "2    0.72\n",
       "3    0.80\n",
       "4    0.65\n",
       "Name: chance_Of_admission, dtype: float64"
      ]
     },
     "execution_count": 30,
     "metadata": {},
     "output_type": "execute_result"
    }
   ],
   "source": [
    "y.head()"
   ]
  },
  {
   "cell_type": "markdown",
   "id": "f6b78bce",
   "metadata": {},
   "source": [
    "#### Data will be splitted using train_test_split module of scikitlearn library \n",
    "* Ref :https://scikit-learn.org/stable/modules/generated/sklearn.model_selection.train_test_split.html\n",
    "* sklearn.model_selection.train_test_split(*arrays, test_size=None, train_size=None, random_state=None, shuffle=True, stratify=None)[source]\n",
    "* Here test size taken as 20% of data (80-20 ratio of train-test)."
   ]
  },
  {
   "cell_type": "code",
   "execution_count": 83,
   "id": "27edec69",
   "metadata": {},
   "outputs": [],
   "source": [
    "from sklearn.model_selection import train_test_split\n",
    "X_train,X_test,y_train,y_test=train_test_split(X,y,test_size=0.25, random_state=10)"
   ]
  },
  {
   "cell_type": "code",
   "execution_count": 84,
   "id": "11db7f43",
   "metadata": {},
   "outputs": [
    {
     "data": {
      "text/plain": [
       "324    0.67\n",
       "252    0.71\n",
       "441    0.79\n",
       "427    0.71\n",
       "70     0.94\n",
       "Name: chance_Of_admission, dtype: float64"
      ]
     },
     "execution_count": 84,
     "metadata": {},
     "output_type": "execute_result"
    }
   ],
   "source": [
    "y_train.head()"
   ]
  },
  {
   "cell_type": "code",
   "execution_count": 85,
   "id": "9de56304",
   "metadata": {},
   "outputs": [
    {
     "data": {
      "text/html": [
       "<div>\n",
       "<style scoped>\n",
       "    .dataframe tbody tr th:only-of-type {\n",
       "        vertical-align: middle;\n",
       "    }\n",
       "\n",
       "    .dataframe tbody tr th {\n",
       "        vertical-align: top;\n",
       "    }\n",
       "\n",
       "    .dataframe thead th {\n",
       "        text-align: right;\n",
       "    }\n",
       "</style>\n",
       "<table border=\"1\" class=\"dataframe\">\n",
       "  <thead>\n",
       "    <tr style=\"text-align: right;\">\n",
       "      <th></th>\n",
       "      <th>GRE_S</th>\n",
       "      <th>TOEFL_S</th>\n",
       "      <th>rating</th>\n",
       "      <th>sop</th>\n",
       "      <th>lor</th>\n",
       "      <th>gpa</th>\n",
       "      <th>research</th>\n",
       "    </tr>\n",
       "  </thead>\n",
       "  <tbody>\n",
       "    <tr>\n",
       "      <th>151</th>\n",
       "      <td>332</td>\n",
       "      <td>116</td>\n",
       "      <td>5</td>\n",
       "      <td>5.0</td>\n",
       "      <td>5.0</td>\n",
       "      <td>9.28</td>\n",
       "      <td>1</td>\n",
       "    </tr>\n",
       "    <tr>\n",
       "      <th>424</th>\n",
       "      <td>325</td>\n",
       "      <td>114</td>\n",
       "      <td>5</td>\n",
       "      <td>4.0</td>\n",
       "      <td>5.0</td>\n",
       "      <td>9.46</td>\n",
       "      <td>1</td>\n",
       "    </tr>\n",
       "    <tr>\n",
       "      <th>154</th>\n",
       "      <td>326</td>\n",
       "      <td>108</td>\n",
       "      <td>3</td>\n",
       "      <td>3.0</td>\n",
       "      <td>3.5</td>\n",
       "      <td>8.89</td>\n",
       "      <td>0</td>\n",
       "    </tr>\n",
       "    <tr>\n",
       "      <th>190</th>\n",
       "      <td>324</td>\n",
       "      <td>111</td>\n",
       "      <td>5</td>\n",
       "      <td>4.5</td>\n",
       "      <td>4.0</td>\n",
       "      <td>9.16</td>\n",
       "      <td>1</td>\n",
       "    </tr>\n",
       "    <tr>\n",
       "      <th>131</th>\n",
       "      <td>303</td>\n",
       "      <td>105</td>\n",
       "      <td>5</td>\n",
       "      <td>5.0</td>\n",
       "      <td>4.5</td>\n",
       "      <td>8.65</td>\n",
       "      <td>0</td>\n",
       "    </tr>\n",
       "  </tbody>\n",
       "</table>\n",
       "</div>"
      ],
      "text/plain": [
       "     GRE_S  TOEFL_S  rating  sop  lor   gpa  research\n",
       "151    332      116       5  5.0  5.0  9.28         1\n",
       "424    325      114       5  4.0  5.0  9.46         1\n",
       "154    326      108       3  3.0  3.5  8.89         0\n",
       "190    324      111       5  4.5  4.0  9.16         1\n",
       "131    303      105       5  5.0  4.5  8.65         0"
      ]
     },
     "execution_count": 85,
     "metadata": {},
     "output_type": "execute_result"
    }
   ],
   "source": [
    "X_test.head()\n"
   ]
  },
  {
   "cell_type": "code",
   "execution_count": 86,
   "id": "df2078c8",
   "metadata": {},
   "outputs": [
    {
     "data": {
      "text/plain": [
       "151    0.94\n",
       "424    0.91\n",
       "154    0.80\n",
       "190    0.90\n",
       "131    0.77\n",
       "Name: chance_Of_admission, dtype: float64"
      ]
     },
     "execution_count": 86,
     "metadata": {},
     "output_type": "execute_result"
    }
   ],
   "source": [
    "y_test.head()\n"
   ]
  },
  {
   "cell_type": "code",
   "execution_count": 87,
   "id": "faba42a9",
   "metadata": {},
   "outputs": [
    {
     "data": {
      "text/plain": [
       "((375, 7), (375,))"
      ]
     },
     "execution_count": 87,
     "metadata": {},
     "output_type": "execute_result"
    }
   ],
   "source": [
    "### both will have same shape\n",
    "X_train.shape, y_train.shape"
   ]
  },
  {
   "cell_type": "code",
   "execution_count": 88,
   "id": "c7e8118d",
   "metadata": {},
   "outputs": [
    {
     "data": {
      "text/plain": [
       "((125, 7), (125,))"
      ]
     },
     "execution_count": 88,
     "metadata": {},
     "output_type": "execute_result"
    }
   ],
   "source": [
    "### both will have same shape\n",
    "X_test.shape, y_test.shape\n"
   ]
  },
  {
   "cell_type": "markdown",
   "id": "3d149856",
   "metadata": {},
   "source": [
    "# Transforming data"
   ]
  },
  {
   "cell_type": "code",
   "execution_count": 89,
   "id": "3919103f",
   "metadata": {},
   "outputs": [
    {
     "data": {
      "text/plain": [
       "array([[ 0.84      ,  0.85185185,  1.        ,  1.        ,  1.        ,\n",
       "         0.79487179,  1.        ],\n",
       "       [ 0.7       ,  0.77777778,  1.        ,  0.75      ,  1.        ,\n",
       "         0.8525641 ,  1.        ],\n",
       "       [ 0.72      ,  0.55555556,  0.5       ,  0.5       ,  0.625     ,\n",
       "         0.66987179,  0.        ],\n",
       "       [ 0.68      ,  0.66666667,  1.        ,  0.875     ,  0.75      ,\n",
       "         0.75641026,  1.        ],\n",
       "       [ 0.26      ,  0.44444444,  1.        ,  1.        ,  0.875     ,\n",
       "         0.59294872,  0.        ],\n",
       "       [ 0.6       ,  0.40740741,  0.5       ,  0.5       ,  0.625     ,\n",
       "         0.62179487,  1.        ],\n",
       "       [ 0.44      ,  0.44444444,  0.25      ,  0.25      ,  0.375     ,\n",
       "         0.52884615,  0.        ],\n",
       "       [ 0.84      ,  0.55555556,  1.        ,  0.875     ,  0.75      ,\n",
       "         0.71153846,  1.        ],\n",
       "       [ 0.38      ,  0.40740741,  0.25      ,  0.25      ,  0.375     ,\n",
       "         0.46794872,  0.        ],\n",
       "       [ 0.44      ,  0.48148148,  0.5       ,  0.75      ,  0.625     ,\n",
       "         0.63782051,  1.        ],\n",
       "       [ 0.76      ,  0.85185185,  0.75      ,  1.        ,  0.625     ,\n",
       "         0.8974359 ,  1.        ],\n",
       "       [ 0.62      ,  0.7037037 ,  1.        ,  1.        ,  1.        ,\n",
       "         0.72435897,  1.        ],\n",
       "       [ 0.78      ,  0.66666667,  0.75      ,  0.875     ,  0.75      ,\n",
       "         0.70833333,  1.        ],\n",
       "       [ 0.44      ,  0.40740741,  0.5       ,  0.625     ,  0.625     ,\n",
       "         0.51923077,  0.        ],\n",
       "       [ 0.7       ,  0.62962963,  0.75      ,  0.625     ,  0.75      ,\n",
       "         0.59935897,  1.        ],\n",
       "       [ 0.52      ,  0.66666667,  0.75      ,  0.75      ,  1.        ,\n",
       "         0.55769231,  0.        ],\n",
       "       [ 0.84      ,  0.88888889,  0.75      ,  0.875     ,  0.75      ,\n",
       "         0.73717949,  0.        ],\n",
       "       [ 0.98      ,  0.96296296,  1.        ,  0.875     ,  0.75      ,\n",
       "         0.92948718,  0.        ],\n",
       "       [ 0.56      ,  0.2962963 ,  1.        ,  0.625     ,  1.        ,\n",
       "         0.63461538,  1.        ],\n",
       "       [ 0.3       ,  0.48148148,  0.25      ,  0.5       ,  0.5       ,\n",
       "         0.43589744,  0.        ],\n",
       "       [ 0.44      ,  0.37037037,  0.5       ,  0.625     ,  0.75      ,\n",
       "         0.63461538,  0.        ],\n",
       "       [ 0.54      ,  0.48148148,  0.        ,  0.125     ,  0.625     ,\n",
       "         0.2724359 ,  1.        ],\n",
       "       [ 0.36      ,  0.44444444,  0.75      ,  0.5       ,  0.375     ,\n",
       "         0.36858974,  1.        ],\n",
       "       [ 0.7       ,  0.7037037 ,  0.75      ,  0.75      ,  0.875     ,\n",
       "         0.75961538,  1.        ],\n",
       "       [ 0.16      , -0.03703704,  0.        ,  0.25      ,  0.25      ,\n",
       "         0.34615385,  0.        ],\n",
       "       [ 0.86      ,  0.92592593,  1.        ,  1.        ,  1.        ,\n",
       "         0.81730769,  1.        ],\n",
       "       [ 0.46      ,  0.40740741,  0.5       ,  0.75      ,  0.875     ,\n",
       "         0.59294872,  0.        ],\n",
       "       [ 0.52      ,  0.18518519,  0.        ,  0.125     ,  0.25      ,\n",
       "         0.20192308,  0.        ],\n",
       "       [ 0.54      ,  0.44444444,  0.5       ,  0.625     ,  0.5       ,\n",
       "         0.56410256,  0.        ],\n",
       "       [ 0.58      ,  0.62962963,  0.5       ,  0.5       ,  0.375     ,\n",
       "         0.63782051,  0.        ],\n",
       "       [ 0.92      ,  0.92592593,  1.        ,  0.875     ,  1.        ,\n",
       "         0.875     ,  1.        ],\n",
       "       [ 0.76      ,  0.74074074,  0.75      ,  0.75      ,  0.375     ,\n",
       "         0.63141026,  1.        ],\n",
       "       [ 0.14      ,  0.2962963 ,  0.5       ,  0.25      ,  0.75      ,\n",
       "         0.27884615,  1.        ],\n",
       "       [ 0.42      ,  0.2962963 ,  0.25      ,  0.375     ,  0.625     ,\n",
       "         0.49358974,  1.        ],\n",
       "       [ 0.64      ,  0.51851852,  0.5       ,  0.625     ,  0.625     ,\n",
       "         0.53205128,  1.        ],\n",
       "       [ 0.78      ,  0.96296296,  0.75      ,  0.875     ,  0.875     ,\n",
       "         0.75641026,  1.        ],\n",
       "       [ 0.68      ,  0.62962963,  0.75      ,  0.5       ,  0.625     ,\n",
       "         0.69551282,  1.        ],\n",
       "       [ 0.18      ,  0.33333333,  0.5       ,  0.75      ,  0.625     ,\n",
       "         0.58333333,  0.        ],\n",
       "       [ 0.36      ,  0.37037037,  0.25      ,  0.5       ,  0.625     ,\n",
       "         0.54166667,  0.        ],\n",
       "       [ 0.42      ,  0.33333333,  0.5       ,  0.875     ,  0.75      ,\n",
       "         0.58974359,  1.        ],\n",
       "       [ 0.84      ,  0.96296296,  0.75      ,  1.        ,  0.875     ,\n",
       "         0.78205128,  1.        ],\n",
       "       [ 0.48      ,  0.33333333,  0.25      ,  0.25      ,  0.375     ,\n",
       "         0.46153846,  0.        ],\n",
       "       [ 0.42      ,  0.44444444,  0.5       ,  0.625     ,  0.5       ,\n",
       "         0.52884615,  1.        ],\n",
       "       [ 0.78      ,  0.74074074,  1.        ,  1.        ,  0.875     ,\n",
       "         0.84935897,  1.        ],\n",
       "       [ 0.92      ,  0.96296296,  1.        ,  0.75      ,  0.625     ,\n",
       "         0.96153846,  1.        ],\n",
       "       [ 0.18      ,  0.14814815,  0.5       ,  1.        ,  0.625     ,\n",
       "         0.27564103,  0.        ],\n",
       "       [ 0.28      ,  0.25925926,  0.25      ,  0.625     ,  0.5       ,\n",
       "         0.45512821,  0.        ],\n",
       "       [ 0.7       ,  0.7037037 ,  0.75      ,  0.625     ,  0.625     ,\n",
       "         0.67948718,  0.        ],\n",
       "       [ 0.74      ,  0.40740741,  1.        ,  0.5       ,  0.625     ,\n",
       "         0.65384615,  1.        ],\n",
       "       [ 0.44      ,  0.37037037,  0.75      ,  0.75      ,  1.        ,\n",
       "         0.5224359 ,  0.        ],\n",
       "       [ 0.68      ,  0.51851852,  1.        ,  0.625     ,  0.75      ,\n",
       "         0.59615385,  1.        ],\n",
       "       [ 0.58      ,  0.55555556,  0.25      ,  0.375     ,  0.5       ,\n",
       "         0.62820513,  0.        ],\n",
       "       [ 0.46      ,  0.03703704,  0.25      ,  0.375     ,  0.125     ,\n",
       "         0.42628205,  0.        ],\n",
       "       [ 0.38      ,  0.48148148,  0.25      ,  0.375     ,  0.375     ,\n",
       "         0.38461538,  0.        ],\n",
       "       [ 0.64      ,  0.44444444,  0.25      ,  0.5       ,  0.5       ,\n",
       "         0.52884615,  1.        ],\n",
       "       [ 0.62      ,  0.59259259,  0.75      ,  0.75      ,  0.75      ,\n",
       "         0.6025641 ,  1.        ],\n",
       "       [ 0.68      ,  0.77777778,  1.        ,  1.        ,  0.875     ,\n",
       "         0.73076923,  1.        ],\n",
       "       [ 0.36      ,  0.2962963 ,  0.25      ,  0.5       ,  0.75      ,\n",
       "         0.3525641 ,  0.        ],\n",
       "       [ 0.56      ,  0.59259259,  0.        ,  0.625     ,  0.625     ,\n",
       "         0.74358974,  0.        ],\n",
       "       [ 0.82      ,  0.85185185,  1.        ,  1.        ,  1.        ,\n",
       "         0.82692308,  1.        ],\n",
       "       [ 0.48      ,  0.48148148,  0.25      ,  0.75      ,  0.625     ,\n",
       "         0.46474359,  0.        ],\n",
       "       [ 0.62      ,  0.66666667,  1.        ,  1.        ,  1.        ,\n",
       "         0.84935897,  1.        ],\n",
       "       [ 0.62      ,  0.62962963,  0.75      ,  0.625     ,  0.75      ,\n",
       "         0.49679487,  1.        ],\n",
       "       [ 0.1       ,  0.2962963 ,  0.25      ,  0.375     ,  0.25      ,\n",
       "         0.33974359,  0.        ],\n",
       "       [ 0.62      ,  0.66666667,  0.75      ,  0.75      ,  0.75      ,\n",
       "         0.69551282,  1.        ],\n",
       "       [ 0.2       ,  0.33333333,  0.25      ,  0.125     ,  0.25      ,\n",
       "         0.34294872,  0.        ],\n",
       "       [ 0.66      ,  0.51851852,  0.75      ,  0.5       ,  0.375     ,\n",
       "         0.53846154,  1.        ],\n",
       "       [ 0.36      ,  0.55555556,  0.75      ,  0.875     ,  1.        ,\n",
       "         0.49358974,  0.        ],\n",
       "       [ 0.12      ,  0.2962963 ,  0.        ,  0.375     ,  0.5       ,\n",
       "         0.28205128,  0.        ],\n",
       "       [ 0.68      ,  0.74074074,  0.75      ,  0.875     ,  0.75      ,\n",
       "         0.63782051,  0.        ],\n",
       "       [ 0.82      ,  0.85185185,  0.75      ,  0.875     ,  0.875     ,\n",
       "         0.84615385,  1.        ],\n",
       "       [ 0.2       ,  0.2962963 ,  0.5       ,  0.625     ,  0.375     ,\n",
       "         0.34615385,  0.        ],\n",
       "       [ 0.38      ,  0.25925926,  0.25      ,  0.5       ,  0.5       ,\n",
       "         0.41666667,  0.        ],\n",
       "       [ 0.48      ,  0.62962963,  0.5       ,  0.75      ,  0.75      ,\n",
       "         0.64102564,  0.        ],\n",
       "       [ 0.62      ,  0.59259259,  0.5       ,  0.5       ,  0.75      ,\n",
       "         0.44871795,  1.        ],\n",
       "       [ 0.4       ,  0.40740741,  0.5       ,  0.25      ,  0.625     ,\n",
       "         0.50320513,  0.        ],\n",
       "       [ 0.46      ,  0.48148148,  0.25      ,  0.375     ,  0.25      ,\n",
       "         0.5224359 ,  0.        ],\n",
       "       [ 0.6       ,  1.        ,  0.5       ,  0.75      ,  0.875     ,\n",
       "         0.74038462,  0.        ],\n",
       "       [ 0.62      ,  0.59259259,  0.75      ,  0.75      ,  0.75      ,\n",
       "         0.74679487,  1.        ],\n",
       "       [ 0.6       ,  0.55555556,  0.5       ,  0.625     ,  0.75      ,\n",
       "         0.52564103,  1.        ],\n",
       "       [ 0.44      ,  0.44444444,  0.25      ,  0.125     ,  0.5       ,\n",
       "         0.53205128,  0.        ],\n",
       "       [ 0.44      ,  0.40740741,  0.5       ,  0.625     ,  0.75      ,\n",
       "         0.41346154,  0.        ],\n",
       "       [ 0.48      ,  0.55555556,  0.5       ,  0.875     ,  0.625     ,\n",
       "         0.42948718,  0.        ],\n",
       "       [ 0.5       ,  0.2962963 ,  0.5       ,  0.625     ,  0.875     ,\n",
       "         0.74679487,  0.        ],\n",
       "       [ 0.74      ,  0.74074074,  0.75      ,  0.625     ,  0.5       ,\n",
       "         0.60576923,  1.        ],\n",
       "       [ 0.68      ,  0.51851852,  0.75      ,  0.75      ,  0.875     ,\n",
       "         0.66346154,  1.        ],\n",
       "       [ 0.64      ,  0.77777778,  1.        ,  0.875     ,  0.75      ,\n",
       "         0.68589744,  1.        ],\n",
       "       [ 0.34      ,  0.2962963 ,  0.5       ,  0.75      ,  0.5       ,\n",
       "         0.44871795,  0.        ],\n",
       "       [ 0.7       ,  0.48148148,  0.5       ,  0.625     ,  0.75      ,\n",
       "         0.51282051,  1.        ],\n",
       "       [ 1.        ,  1.        ,  0.75      ,  1.        ,  1.        ,\n",
       "         0.86538462,  1.        ],\n",
       "       [ 0.64      ,  0.62962963,  0.75      ,  0.75      ,  1.        ,\n",
       "         0.74679487,  1.        ],\n",
       "       [ 0.46      ,  0.33333333,  0.5       ,  0.25      ,  0.5       ,\n",
       "         0.47115385,  0.        ],\n",
       "       [ 0.16      ,  0.22222222,  0.        ,  0.125     ,  0.5       ,\n",
       "         0.21153846,  0.        ],\n",
       "       [ 0.64      ,  0.7037037 ,  0.5       ,  0.5       ,  0.75      ,\n",
       "         0.58333333,  1.        ],\n",
       "       [ 0.64      ,  0.40740741,  0.5       ,  0.625     ,  0.75      ,\n",
       "         0.65384615,  1.        ],\n",
       "       [ 0.46      ,  0.18518519,  0.5       ,  0.375     ,  0.875     ,\n",
       "         0.48076923,  1.        ],\n",
       "       [ 0.7       ,  0.62962963,  0.25      ,  0.5       ,  0.375     ,\n",
       "         0.62820513,  1.        ],\n",
       "       [ 0.82      ,  0.7037037 ,  1.        ,  0.75      ,  1.        ,\n",
       "         0.96153846,  1.        ],\n",
       "       [ 0.12      ,  0.07407407,  0.25      ,  0.5       ,  0.25      ,\n",
       "         0.23717949,  1.        ],\n",
       "       [ 0.36      ,  0.59259259,  0.25      ,  0.5       ,  0.75      ,\n",
       "         0.52884615,  0.        ],\n",
       "       [ 0.62      ,  0.59259259,  0.5       ,  0.625     ,  0.625     ,\n",
       "         0.64102564,  1.        ],\n",
       "       [ 0.96      ,  0.88888889,  0.75      ,  0.625     ,  0.875     ,\n",
       "         0.8525641 ,  1.        ],\n",
       "       [ 0.56      ,  0.51851852,  0.5       ,  0.5       ,  0.625     ,\n",
       "         0.47115385,  1.        ],\n",
       "       [ 0.44      ,  0.51851852,  0.75      ,  0.875     ,  0.75      ,\n",
       "         0.59294872,  1.        ],\n",
       "       [ 0.82      ,  0.81481481,  1.        ,  0.75      ,  0.625     ,\n",
       "         0.84615385,  1.        ],\n",
       "       [ 0.14      ,  0.11111111,  0.25      ,  0.375     ,  0.125     ,\n",
       "         0.34935897,  0.        ],\n",
       "       [ 0.62      ,  0.66666667,  0.5       ,  0.625     ,  0.75      ,\n",
       "         0.65064103,  1.        ],\n",
       "       [ 0.        ,  0.25925926,  0.        ,  0.125     ,  0.25      ,\n",
       "         0.24358974,  0.        ],\n",
       "       [ 0.72      ,  0.62962963,  0.5       ,  0.625     ,  0.625     ,\n",
       "         0.62820513,  1.        ],\n",
       "       [ 0.56      ,  0.59259259,  0.5       ,  0.625     ,  0.75      ,\n",
       "         0.77564103,  1.        ],\n",
       "       [ 0.16      ,  0.14814815,  0.25      ,  0.25      ,  0.5       ,\n",
       "         0.13141026,  0.        ],\n",
       "       [ 0.58      ,  0.55555556,  0.5       ,  0.5       ,  0.625     ,\n",
       "         0.55769231,  1.        ],\n",
       "       [ 0.32      ,  0.62962963,  0.25      ,  0.625     ,  0.75      ,\n",
       "         0.52884615,  0.        ],\n",
       "       [ 0.42      ,  0.37037037,  0.5       ,  0.25      ,  0.75      ,\n",
       "         0.41346154,  0.        ],\n",
       "       [ 0.74      ,  0.81481481,  0.75      ,  0.625     ,  0.75      ,\n",
       "         0.75      ,  0.        ],\n",
       "       [ 0.36      ,  0.48148148,  0.5       ,  0.625     ,  0.375     ,\n",
       "         0.45192308,  1.        ],\n",
       "       [ 0.64      ,  0.59259259,  1.        ,  0.875     ,  0.625     ,\n",
       "         0.64102564,  0.        ],\n",
       "       [ 0.16      ,  0.2962963 ,  0.25      ,  0.125     ,  0.25      ,\n",
       "         0.33974359,  0.        ],\n",
       "       [ 0.68      ,  0.81481481,  0.5       ,  0.625     ,  0.5       ,\n",
       "         0.62820513,  1.        ],\n",
       "       [ 0.66      ,  0.51851852,  0.5       ,  0.625     ,  0.625     ,\n",
       "         0.56089744,  1.        ],\n",
       "       [ 0.54      ,  0.25925926,  0.25      ,  0.5       ,  0.375     ,\n",
       "         0.56730769,  0.        ],\n",
       "       [ 0.82      ,  0.88888889,  0.75      ,  0.875     ,  1.        ,\n",
       "         0.83974359,  1.        ],\n",
       "       [ 0.66      ,  0.74074074,  0.5       ,  0.75      ,  0.75      ,\n",
       "         0.66666667,  1.        ],\n",
       "       [ 0.76      ,  0.62962963,  0.75      ,  0.75      ,  0.375     ,\n",
       "         0.71153846,  1.        ],\n",
       "       [ 0.66      ,  0.62962963,  0.75      ,  0.75      ,  1.        ,\n",
       "         0.66666667,  1.        ]])"
      ]
     },
     "execution_count": 89,
     "metadata": {},
     "output_type": "execute_result"
    }
   ],
   "source": [
    "X_train=scaler.fit_transform(X_train)\n",
    "X_train\n",
    "X_test=scaler.transform(X_test)\n",
    "X_test"
   ]
  },
  {
   "cell_type": "markdown",
   "id": "24174c23",
   "metadata": {},
   "source": [
    "# Building SVR Model"
   ]
  },
  {
   "cell_type": "code",
   "execution_count": 90,
   "id": "b90ecf75",
   "metadata": {},
   "outputs": [
    {
     "data": {
      "text/plain": [
       "SVR()"
      ]
     },
     "execution_count": 90,
     "metadata": {},
     "output_type": "execute_result"
    }
   ],
   "source": [
    "svr=SVR()\n",
    "svr\n"
   ]
  },
  {
   "cell_type": "code",
   "execution_count": 91,
   "id": "37e2610d",
   "metadata": {},
   "outputs": [
    {
     "data": {
      "text/plain": [
       "SVR()"
      ]
     },
     "execution_count": 91,
     "metadata": {},
     "output_type": "execute_result"
    }
   ],
   "source": [
    "svr.fit(X_train,y_train)\n"
   ]
  },
  {
   "cell_type": "code",
   "execution_count": 92,
   "id": "847c90e6",
   "metadata": {},
   "outputs": [
    {
     "data": {
      "text/plain": [
       "array([0.8530122 , 0.85878143, 0.66607036, 0.85201859, 0.73296598,\n",
       "       0.74516515, 0.650184  , 0.85113676, 0.61194738, 0.73690793,\n",
       "       0.87287702, 0.80851996, 0.85861529, 0.67264923, 0.81073542,\n",
       "       0.75034243, 0.6806016 , 0.69774459, 0.74521387, 0.6272066 ,\n",
       "       0.73314907, 0.62810708, 0.61362472, 0.86126621, 0.46746224,\n",
       "       0.85398424, 0.73538769, 0.53381885, 0.66666846, 0.68324957,\n",
       "       0.8714581 , 0.80858066, 0.57285162, 0.64223422, 0.73241553,\n",
       "       0.86233993, 0.82526655, 0.66318999, 0.66729112, 0.69183415,\n",
       "       0.85989873, 0.6118147 , 0.68574295, 0.86433997, 0.87314784,\n",
       "       0.49975215, 0.57019248, 0.65968592, 0.78727405, 0.73433589,\n",
       "       0.79588108, 0.6964019 , 0.56604054, 0.61040253, 0.66226745,\n",
       "       0.80022019, 0.83315883, 0.61114315, 0.70476323, 0.85566571,\n",
       "       0.62349619, 0.8243358 , 0.7545564 , 0.50881424, 0.83502712,\n",
       "       0.49569389, 0.73047824, 0.74484777, 0.51781424, 0.70395694,\n",
       "       0.8886297 , 0.55082174, 0.58351099, 0.73627234, 0.70385515,\n",
       "       0.64371777, 0.67797754, 0.71736436, 0.84589492, 0.73139704,\n",
       "       0.63235909, 0.65500572, 0.62840802, 0.76919364, 0.80742055,\n",
       "       0.81707701, 0.82838058, 0.596353  , 0.73355733, 0.85645826,\n",
       "       0.82657299, 0.61192559, 0.483337  , 0.76896799, 0.76569028,\n",
       "       0.66979711, 0.71191007, 0.87338848, 0.49080749, 0.70032865,\n",
       "       0.77931955, 0.88609856, 0.69002474, 0.7459358 , 0.8783273 ,\n",
       "       0.48335399, 0.7902876 , 0.46009648, 0.78980076, 0.81522003,\n",
       "       0.45108094, 0.73375626, 0.6964646 , 0.627624  , 0.67901536,\n",
       "       0.63964866, 0.69923064, 0.48101521, 0.78704419, 0.74641343,\n",
       "       0.6513775 , 0.8718778 , 0.80124519, 0.82954968, 0.81027533])"
      ]
     },
     "execution_count": 92,
     "metadata": {},
     "output_type": "execute_result"
    }
   ],
   "source": [
    "svr_pred=svr.predict(X_test)\n",
    "svr_pred\n"
   ]
  },
  {
   "cell_type": "code",
   "execution_count": 93,
   "id": "ca2e9755",
   "metadata": {},
   "outputs": [
    {
     "name": "stdout",
     "output_type": "stream",
     "text": [
      "The Support Vector Regressor model has 74.322 % accuracy\n"
     ]
    }
   ],
   "source": [
    "svr_r2_score=r2_score(y_test, svr_pred)\n",
    "print(\"The Support Vector Regressor model has {} % accuracy\".format(round(svr_r2_score*100,3)))\n"
   ]
  },
  {
   "cell_type": "code",
   "execution_count": 94,
   "id": "1271d588",
   "metadata": {},
   "outputs": [
    {
     "name": "stdout",
     "output_type": "stream",
     "text": [
      " The Adjusted R square accuracy is 72.786 % \n"
     ]
    }
   ],
   "source": [
    "adjusted_r2_score=1-((1-svr_r2_score)*(len(y_test)-1)/(len(y_test)-X_test.shape[1]-1))\n",
    "print(\" The Adjusted R square accuracy is {} % \".format(round(adjusted_r2_score*100,3)))\n"
   ]
  },
  {
   "cell_type": "markdown",
   "id": "856bc970",
   "metadata": {},
   "source": [
    "#  Observations :\n",
    "* The Support Vector Regressor model has 74.322 % accuracy\n",
    "* The Adjusted R square accuracy is 72.786 % \n"
   ]
  },
  {
   "cell_type": "code",
   "execution_count": null,
   "id": "fbba79eb",
   "metadata": {},
   "outputs": [],
   "source": [
    "END"
   ]
  }
 ],
 "metadata": {
  "kernelspec": {
   "display_name": "Python 3 (ipykernel)",
   "language": "python",
   "name": "python3"
  },
  "language_info": {
   "codemirror_mode": {
    "name": "ipython",
    "version": 3
   },
   "file_extension": ".py",
   "mimetype": "text/x-python",
   "name": "python",
   "nbconvert_exporter": "python",
   "pygments_lexer": "ipython3",
   "version": "3.9.12"
  }
 },
 "nbformat": 4,
 "nbformat_minor": 5
}
